{
 "cells": [
  {
   "cell_type": "code",
   "execution_count": 2,
   "metadata": {},
   "outputs": [],
   "source": [
    "import pandas as pd\n",
    "from difflib import get_close_matches\n",
    "from sklearn.metrics import roc_curve, auc\n",
    "from maayanlab_bioinformatics.harmonization import ncbi_genes_lookup\n",
    "import matplotlib.pyplot as plt\n",
    "import numpy as np\n",
    "from time import sleep\n",
    "import seaborn as sns\n",
    "from tqdm import tqdm\n",
    "import json\n",
    "lookup = ncbi_genes_lookup()"
   ]
  },
  {
   "cell_type": "code",
   "execution_count": 3,
   "metadata": {},
   "outputs": [],
   "source": [
    "cox_df = pd.read_csv('data/cox_inhibitor.tsv', sep='\\t')\n",
    "cox_inhibitors = ['-'.join(x.upper().split(' '))  for x in cox_df['Drug'].values]\n",
    "hdac_df = pd.read_csv('data/hdac_inhibitors.csv', index_col=0)\n",
    "hdac_inhibitors = ['-'.join(x.upper().split(' ')) for x in hdac_df['Drug'].values]\n",
    "cdk_df = pd.read_csv('data/CDK inhibitor.txt', sep='\\t')\n",
    "cdk_inhibitors = ['-'.join(x.upper().split(' ')) for x in cdk_df['Name'].values]"
   ]
  },
  {
   "cell_type": "code",
   "execution_count": 4,
   "metadata": {},
   "outputs": [],
   "source": [
    "with open('../data/counts_perts.json') as f:\n",
    "    counts_perts = json.load(f)\n",
    "all_drugs = list([k.upper() for k in counts_perts.keys()])"
   ]
  },
  {
   "cell_type": "code",
   "execution_count": 5,
   "metadata": {},
   "outputs": [],
   "source": [
    "with open('data/cdk_inhibitor.gmt') as fr:\n",
    "    lines = fr.readlines()\n",
    "with open('data/cdk_inhibitor_hu_pc.gmt', 'w') as fw:\n",
    "    for line in lines:\n",
    "        term = line.strip().split('\\t')[0]\n",
    "        genes = line.strip().split('\\t')[2:]\n",
    "        genes = [lookup(g.upper()) for g in genes if lookup(g.upper())]\n",
    "        genes_str = '\\t'.join(genes)\n",
    "        fw.write(f\"{term}\\t\\t{genes_str}\\n\")"
   ]
  },
  {
   "cell_type": "code",
   "execution_count": 6,
   "metadata": {},
   "outputs": [],
   "source": [
    "with open('data/hdac_inhibitor.gmt') as fr:\n",
    "    lines = fr.readlines()\n",
    "with open('data/hdac_inhibitor_hu_pc.gmt', 'w') as fw:\n",
    "    for line in lines:\n",
    "        term = line.strip().split('\\t')[0]\n",
    "        genes = line.strip().split('\\t')[2:]\n",
    "        genes = [lookup(g.upper()) for g in genes if lookup(g.upper())]\n",
    "        genes_str = '\\t'.join(genes)\n",
    "        fw.write(f\"{term}\\t\\t{genes_str}\\n\")"
   ]
  },
  {
   "cell_type": "code",
   "execution_count": 7,
   "metadata": {},
   "outputs": [],
   "source": [
    "#for d in list(set(cdk_inhibitors).difference(all_drugs)):\n",
    "#    closest_matches = get_close_matches(d, all_drugs, n=5)\n",
    "#    print(d, closest_matches)"
   ]
  },
  {
   "cell_type": "code",
   "execution_count": null,
   "metadata": {},
   "outputs": [],
   "source": [
    "print(len(set(cox_inhibitors).intersection(all_drugs)))\n",
    "print(len(list(set(hdac_inhibitors).intersection(all_drugs))))\n",
    "print(len(list(set(cdk_inhibitors).intersection(all_drugs))))"
   ]
  },
  {
   "cell_type": "code",
   "execution_count": 13,
   "metadata": {},
   "outputs": [],
   "source": [
    "\n",
    "def query_consensus_l2s2(genes, sortby='pvalue'):\n",
    "    import requests\n",
    "    query = {\n",
    "        \"operationName\": \"EnrichmentQuery\",\n",
    "        \"variables\": {\n",
    "            \"filterTerm\": \"\",\n",
    "            \"filterFda\": False,\n",
    "            \"sortBy\": sortby,\n",
    "            \"filterKo\": False,\n",
    "            \"genes\": genes,\n",
    "            \"pvalueLe\": .99999\n",
    "        },\n",
    "        \"query\": 'query EnrichmentQuery($genes: [String]!, $filterTerm: String = \"\", $offset: Int, $first: Int, $filterFda: Boolean = false, $sortBy: String = \"\", $filterKo: Boolean = false, $pvalueLe: Float = 1.1) {\\n  currentBackground {\\n    enrich(\\n      genes: $genes\\n      filterTerm: $filterTerm\\n      offset: $offset\\n      first: $first\\n      filterFda: $filterFda\\n      sortby: $sortBy\\n      filterKo: $filterKo\\n      pvalueLe: $pvalueLe\\n    ) {\\n     consensus {\\n        drug\\n        oddsRatio\\n        pvalue\\n        adjPvalue\\n        approved\\n        countSignificant\\n        countInsignificant\\n        countUpSignificant\\n        pvalueUp\\n        adjPvalueUp\\n        oddsRatioUp\\n        pvalueDown\\n        adjPvalueDown\\n        oddsRatioDown\\n        __typename\\n      }\\n      __typename\\n    }\\n    __typename\\n  }\\n}\\n',\n",
    "    }\n",
    "    res = requests.post(\n",
    "    \"http://l2s2.maayanlab.cloud/graphql\",\n",
    "    data=json.dumps(query),\n",
    "    headers={'Content-Type': 'application/json'}\n",
    "    )\n",
    "    if res.status_code != 200:\n",
    "        raise Exception(\"Query failed to run by returning code of {}. {}\".format(res.status_code, query))\n",
    "    \n",
    "    res = res.json()\n",
    "    return pd.DataFrame(res['data']['currentBackground']['enrich']['consensus'])"
   ]
  },
  {
   "cell_type": "code",
   "execution_count": null,
   "metadata": {},
   "outputs": [],
   "source": [
    "with open('data/hdac_inhibitor.gmt') as f:\n",
    "    for line in tqdm(f.readlines()):\n",
    "        genes = line.strip().split('\\t')[2:]\n",
    "        genes = [g.upper() for g in genes if g != '']\n",
    "        term = line.strip().split('\\t')[0]\n",
    "        try:\n",
    "            rank_df = query_consensus_l2s2(genes, sortby='pvalue')\n",
    "        except Exception as e:\n",
    "            print('Error computing for', term, e)\n",
    "            continue\n",
    "        if 'drug' not in rank_df.columns:\n",
    "            continue\n",
    "        rank_df.to_csv(f'data/hdac_out/hdac_{term}.tsv', sep='\\t')"
   ]
  },
  {
   "cell_type": "code",
   "execution_count": null,
   "metadata": {},
   "outputs": [],
   "source": [
    "import os\n",
    "with open('data/cdk_inhibitor.gmt') as f:\n",
    "    for line in tqdm(f.readlines()):\n",
    "        genes = line.strip().split('\\t')[2:]\n",
    "        genes = [g.upper() for g in genes if g != '']\n",
    "        term = line.strip().split('\\t')[0]\n",
    "        if os.path.exists(f'data/cdk_out/cdk_{term}.tsv'):\n",
    "            continue\n",
    "        try:\n",
    "            rank_df = query_consensus_l2s2(genes, sortby='pvalue')\n",
    "        except Exception as e:\n",
    "            print('Error computing for', term, e)\n",
    "            continue\n",
    "        if 'drug' not in rank_df.columns:\n",
    "            continue\n",
    "        rank_df.to_csv(f'data/cdk_out/cdk_{term}.tsv', sep='\\t')"
   ]
  },
  {
   "cell_type": "code",
   "execution_count": null,
   "metadata": {},
   "outputs": [],
   "source": [
    "import os\n",
    "ranking_dict = {\n",
    "    'pvalue': {'scores': [], 'labels': []},\n",
    "    'oddsRatio': {'scores': [], 'labels': []}, \n",
    "    'pvalueUp': {'scores': [], 'labels': []}, \n",
    "    'pvalueDown': {'scores': [], 'labels': []}, \n",
    "    'oddsRatioUp': {'scores': [], 'labels': []},\n",
    "    'oddsRatioDown': {'scores': [], 'labels': []}\n",
    "}\n",
    "\n",
    "for metric in ranking_dict.keys():\n",
    "    for term in tqdm(os.listdir('data/hdac_out')):\n",
    "        rank_df = pd.read_csv(f'data/hdac_out/{term}', sep='\\t')\n",
    "        rank_df = rank_df[(rank_df['pvalue'] < 0.05)]\n",
    "        if 'pvalue' in metric:\n",
    "            rank_df.sort_values(by=metric, inplace=True, ascending=True)\n",
    "        else:\n",
    "            rank_df.sort_values(by=metric, inplace=True, ascending=False)\n",
    "        rank_df.reset_index(drop=True, inplace=True)\n",
    "        rank_df['labels'] = [1 if x.upper() in hdac_inhibitors else 0 for x in rank_df['drug']]\n",
    "        rank_df['scores'] = 1 -  ((rank_df.index.values + 1) / len(rank_df))\n",
    "        ranking_dict[metric]['scores'].extend(list(rank_df['scores']))\n",
    "        ranking_dict[metric]['labels'].extend(list(rank_df['labels']))\n",
    "        "
   ]
  },
  {
   "cell_type": "code",
   "execution_count": null,
   "metadata": {},
   "outputs": [],
   "source": [
    "plt.figure(figsize=(8, 6))\n",
    "for metric in ranking_dict.keys():   \n",
    "    fpr, tpr, thresholds = roc_curve(ranking_dict[metric]['labels'], ranking_dict[metric]['scores'])\n",
    "    roc_auc = auc(fpr, tpr)\n",
    "    plt.plot(fpr, tpr, lw=2, label=f'{metric} (AUC = {roc_auc:.2f})')\n",
    "    plt.xlabel('False Positive Rate')\n",
    "    plt.ylabel('True Positive Rate')\n",
    "    plt.legend(loc='lower right')\n",
    "    plt.grid(alpha=0.3)\n",
    "plt.plot([0, 1], [0, 1], color='gray', linestyle='--', label='Random')\n",
    "plt.show()"
   ]
  },
  {
   "cell_type": "code",
   "execution_count": null,
   "metadata": {},
   "outputs": [],
   "source": [
    "import os\n",
    "ranking_dict_up = {\n",
    "    'pvalue': {'scores': [], 'labels': []},\n",
    "    'oddsRatio': {'scores': [], 'labels': []}, \n",
    "    'pvalueUp': {'scores': [], 'labels': []}, \n",
    "    'pvalueDown': {'scores': [], 'labels': []}, \n",
    "    'oddsRatioUp': {'scores': [], 'labels': []},\n",
    "    'oddsRatioDown': {'scores': [], 'labels': []}\n",
    "}\n",
    "\n",
    "for metric in ranking_dict_up.keys():\n",
    "    for term in tqdm(os.listdir('data/hdac_out')):\n",
    "        if 'up' in term:\n",
    "            rank_df = pd.read_csv(f'data/hdac_out/{term}', sep='\\t')\n",
    "            rank_df = rank_df[(rank_df['pvalue'] < 0.05)]\n",
    "            if 'pvalue' in metric:\n",
    "                rank_df.sort_values(by=metric, inplace=True, ascending=True)\n",
    "            else:\n",
    "                rank_df.sort_values(by=metric, inplace=True, ascending=False)\n",
    "            rank_df.reset_index(drop=True, inplace=True)\n",
    "            rank_df['labels'] = [1 if x.upper() in hdac_inhibitors else 0 for x in rank_df['drug']]\n",
    "            rank_df['scores'] = 1 -  ((rank_df.index.values + 1) / len(rank_df))\n",
    "            ranking_dict_up[metric]['scores'].extend(list(rank_df['scores']))\n",
    "            ranking_dict_up[metric]['labels'].extend(list(rank_df['labels']))"
   ]
  },
  {
   "cell_type": "code",
   "execution_count": null,
   "metadata": {},
   "outputs": [],
   "source": [
    "plt.figure(figsize=(8, 6))\n",
    "\n",
    "for m in ranking_dict_up.keys():  \n",
    "    fpr, tpr, thresholds = roc_curve(ranking_dict_up[m]['labels'], ranking_dict_up[m]['scores'])\n",
    "    roc_auc = auc(fpr, tpr)\n",
    "    plt.plot(fpr, tpr, lw=2, label=f'{m} (AUC = {roc_auc:.2f})')\n",
    "    plt.xlabel('False Positive Rate')\n",
    "    plt.ylabel('True Positive Rate')\n",
    "    plt.legend(loc='lower right')\n",
    "    plt.grid(alpha=0.3)\n",
    "plt.plot([0, 1], [0, 1], color='gray', linestyle='--', label='Random')\n",
    "plt.show()"
   ]
  },
  {
   "cell_type": "code",
   "execution_count": null,
   "metadata": {},
   "outputs": [],
   "source": [
    "import os\n",
    "ranking_dict_dn = {\n",
    "    'pvalue': {'scores': [], 'labels': []},\n",
    "    'oddsRatio': {'scores': [], 'labels': []}, \n",
    "    'pvalueUp': {'scores': [], 'labels': []}, \n",
    "    'pvalueDown': {'scores': [], 'labels': []}, \n",
    "    'oddsRatioUp': {'scores': [], 'labels': []},\n",
    "    'oddsRatioDown': {'scores': [], 'labels': []}\n",
    "}\n",
    "\n",
    "for metric in ranking_dict.keys():\n",
    "    for term in tqdm(os.listdir('data/hdac_out')):\n",
    "        if 'dn' in term:\n",
    "            rank_df = pd.read_csv(f'data/hdac_out/{term}', sep='\\t')\n",
    "            rank_df = rank_df[(rank_df['pvalue'] < 0.05)]\n",
    "            if 'pvalue' in metric:\n",
    "                rank_df.sort_values(by=metric, inplace=True, ascending=True)\n",
    "            else:\n",
    "                rank_df.sort_values(by=metric, inplace=True, ascending=False)\n",
    "            rank_df.reset_index(drop=True, inplace=True)\n",
    "            rank_df['labels'] = [1 if x.upper() in hdac_inhibitors else 0 for x in rank_df['drug']]\n",
    "            rank_df['scores'] = 1 -  ((rank_df.index.values + 1) / len(rank_df))\n",
    "            ranking_dict_dn[metric]['scores'].extend(list(rank_df['scores']))\n",
    "            ranking_dict_dn[metric]['labels'].extend(list(rank_df['labels']))\n",
    "\n",
    "\n",
    "plt.figure(figsize=(8, 6))\n",
    "for metric in ranking_dict_dn.keys():   \n",
    "    fpr, tpr, thresholds = roc_curve(ranking_dict_dn[metric]['labels'], ranking_dict_dn[metric]['scores'])\n",
    "    roc_auc = auc(fpr, tpr)\n",
    "    plt.plot(fpr, tpr, lw=2, label=f'{metric} (AUC = {roc_auc:.2f})')\n",
    "    plt.xlabel('False Positive Rate')\n",
    "    plt.ylabel('True Positive Rate')\n",
    "    plt.legend(loc='lower right')\n",
    "    plt.grid(alpha=0.3)\n",
    "plt.plot([0, 1], [0, 1], color='gray', linestyle='--', label='Random')\n",
    "plt.show()"
   ]
  },
  {
   "cell_type": "code",
   "execution_count": null,
   "metadata": {},
   "outputs": [],
   "source": []
  }
 ],
 "metadata": {
  "kernelspec": {
   "display_name": "venv",
   "language": "python",
   "name": "python3"
  },
  "language_info": {
   "codemirror_mode": {
    "name": "ipython",
    "version": 3
   },
   "file_extension": ".py",
   "mimetype": "text/x-python",
   "name": "python",
   "nbconvert_exporter": "python",
   "pygments_lexer": "ipython3",
   "version": "3.11.9"
  }
 },
 "nbformat": 4,
 "nbformat_minor": 2
}

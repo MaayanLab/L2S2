{
 "cells": [
  {
   "cell_type": "code",
   "execution_count": 16,
   "metadata": {},
   "outputs": [],
   "source": [
    "import re\n",
    "import os\n",
    "import sys\n",
    "import requests\n",
    "import numpy as np\n",
    "import pandas as pd\n",
    "from tqdm import tqdm\n",
    "import time"
   ]
  },
  {
   "cell_type": "code",
   "execution_count": 7,
   "metadata": {},
   "outputs": [],
   "source": [
    "with open('data/table.html') as fr:\n",
    "    table = fr.read()\n",
    "hrefs = re.findall(r'href=\"([^\"]*)\"', table)"
   ]
  },
  {
   "cell_type": "code",
   "execution_count": 8,
   "metadata": {},
   "outputs": [],
   "source": [
    "downloads = [ref.replace('results', 'gene_list/0/') for ref in hrefs]"
   ]
  },
  {
   "cell_type": "code",
   "execution_count": 10,
   "metadata": {},
   "outputs": [],
   "source": [
    "for download in downloads:\n",
    "    r = requests.get(download)\n",
    "    if r.status_code == 200:\n",
    "        with open(f\"data/dexsigs/{download.split('/')[-1]}.txt\", 'wb') as f:\n",
    "            f.write(r.content)\n",
    "    else:\n",
    "        print('Failed')\n",
    "    time.sleep(1)"
   ]
  },
  {
   "cell_type": "code",
   "execution_count": 11,
   "metadata": {},
   "outputs": [],
   "source": [
    "import json\n",
    "def query_consensus_l2s2(genes, sortby='pvalue'):\n",
    "    import requests\n",
    "    query = {\n",
    "        \"operationName\": \"EnrichmentQuery\",\n",
    "        \"variables\": {\n",
    "            \"filterTerm\": \"\",\n",
    "            \"filterFda\": False,\n",
    "            \"sortBy\": sortby,\n",
    "            \"filterKo\": False,\n",
    "            \"genes\": genes,\n",
    "            \"pvalueLe\": 1.1\n",
    "        },\n",
    "        \"query\": 'query EnrichmentQuery($genes: [String]!, $filterTerm: String = \"\", $offset: Int, $first: Int, $filterFda: Boolean = false, $sortBy: String = \"\", $filterKo: Boolean = false, $pvalueLe: Float = 1.1) {\\n  currentBackground {\\n    enrich(\\n      genes: $genes\\n      filterTerm: $filterTerm\\n      offset: $offset\\n      first: $first\\n      filterFda: $filterFda\\n      sortby: $sortBy\\n      filterKo: $filterKo\\n      pvalueLe: $pvalueLe\\n    ) {\\n     consensus {\\n        drug\\n        oddsRatio\\n        pvalue\\n        adjPvalue\\n        approved\\n        countSignificant\\n        countInsignificant\\n        countUpSignificant\\n        pvalueUp\\n        adjPvalueUp\\n        oddsRatioUp\\n        pvalueDown\\n        adjPvalueDown\\n        oddsRatioDown\\n        __typename\\n      }\\n      __typename\\n    }\\n    __typename\\n  }\\n}\\n',\n",
    "    }\n",
    "    res = requests.post(\n",
    "    \"http://l2s2.maayanlab.cloud/graphql\",\n",
    "    data=json.dumps(query),\n",
    "    headers={'Content-Type': 'application/json'}\n",
    "    )\n",
    "    if res.status_code != 200:\n",
    "        raise Exception(\"Query failed to run by returning code of {}. {}\".format(res.status_code, query))\n",
    "    \n",
    "    res = res.json()\n",
    "    return pd.DataFrame(res['data']['currentBackground']['enrich']['consensus'])"
   ]
  },
  {
   "cell_type": "code",
   "execution_count": 24,
   "metadata": {},
   "outputs": [
    {
     "name": "stderr",
     "output_type": "stream",
     "text": [
      "100%|██████████| 86/86 [20:08<00:00, 14.05s/it]\n"
     ]
    }
   ],
   "source": [
    "for signature in tqdm(os.listdir('data/dexsigs')):\n",
    "    df = pd.read_csv(f\"data/dexsigs/{signature}\", sep='\\t', index_col=0, header=None)\n",
    "    #meta = df[df.index.str.startswith('!')]\n",
    "    genes_cd = df[~df.index.str.startswith('!')]\n",
    "    genes_cd.columns = ['CD']\n",
    "    genes_cd.astype(float)\n",
    "    up_genes = list(genes_cd[genes_cd['CD'].astype(float) > 0].index.values)\n",
    "    down_genes = list(genes_cd[genes_cd['CD'].astype(float) < 0].index.values)\n",
    "    try:\n",
    "        res_df = query_consensus_l2s2(up_genes, sortby='pvalue')\n",
    "        res_df.to_csv(f'data/dex_out/{signature.replace(\".txt\", \"\")}_up.tsv', sep='\\t')\n",
    "        time.sleep(1)\n",
    "    except Exception as e:\n",
    "        print(signature, e)\n",
    "    try:\n",
    "        res_df = query_consensus_l2s2(down_genes, sortby='pvalue')\n",
    "        res_df.to_csv(f'data/dex_out/{signature.replace(\".txt\", \"\")}_down.tsv', sep='\\t')\n",
    "        time.sleep(1)\n",
    "    except Exception as e:\n",
    "        print(signature, e)"
   ]
  },
  {
   "cell_type": "code",
   "execution_count": 44,
   "metadata": {},
   "outputs": [],
   "source": [
    "def clustergrammer_link(df: pd.DataFrame, filename: str):\n",
    "    try:\n",
    "        df.to_csv(f'data/{filename}.tsv', sep='\\t')\n",
    "        upload_url = 'http://amp.pharm.mssm.edu/clustergrammer/matrix_upload/'\n",
    "\n",
    "        r = requests.post(upload_url, files={'file': open(f'data/{filename}.tsv', 'rb')})\n",
    "        link = r.text\n",
    "        return link\n",
    "    except Exception as e:\n",
    "        print('Error uploading to Clustergrammer:', e)\n",
    "        return None"
   ]
  },
  {
   "cell_type": "code",
   "execution_count": 95,
   "metadata": {},
   "outputs": [
    {
     "name": "stderr",
     "output_type": "stream",
     "text": [
      "100%|██████████| 172/172 [00:01<00:00, 113.45it/s]\n"
     ]
    }
   ],
   "source": [
    "dfs = []\n",
    "for signature in tqdm(os.listdir('data/dex_out')):\n",
    "    if '_up' in signature:\n",
    "        df = pd.read_csv(f\"data/dex_out/{signature}\", sep='\\t', index_col=0)\n",
    "        if df.empty:\n",
    "            continue\n",
    "        meta = pd.read_csv(f\"data/dexsigs/{signature.replace('_up.tsv', '.txt')}\", sep='\\t', index_col=0)\n",
    "        meta = meta[meta.index.str.startswith('!')].drop_duplicates()\n",
    "        if '!perturbation' in meta.index:\n",
    "            pert = meta.loc['!perturbation'].values[0]\n",
    "        else: pert = ''\n",
    "        if '!organism' in meta.index:\n",
    "            organism = meta.loc['!organism'].values[0]\n",
    "        else: organism = ''\n",
    "        if '!cell' in meta.index:\n",
    "            cell = meta.loc['!cell'].values[0]\n",
    "        else: cell = ''\n",
    "              \n",
    "        df.set_index('drug', inplace=True, drop=True)\n",
    "        term = f\"{cell}_{organism}_{pert}\"\n",
    "        df[term] = -np.log10(df['pvalue'])\n",
    "        df = df[term]\n",
    "        dfs.append(df)"
   ]
  },
  {
   "cell_type": "code",
   "execution_count": 99,
   "metadata": {},
   "outputs": [
    {
     "data": {
      "text/plain": [
       "(178, 82)"
      ]
     },
     "execution_count": 99,
     "metadata": {},
     "output_type": "execute_result"
    }
   ],
   "source": [
    "df_up = pd.concat(dfs, axis=1)\n",
    "df_up_sub = df_up.dropna(thresh=len(df_up.columns)*0.98)\n",
    "#df_up_sub = np.log(df_up[df_up.mean(axis=1) > 3])\n",
    "df_up_sub.shape"
   ]
  },
  {
   "cell_type": "code",
   "execution_count": 100,
   "metadata": {},
   "outputs": [
    {
     "name": "stdout",
     "output_type": "stream",
     "text": [
      "http://maayanlab.cloud/clustergrammer/viz/6740a3e9357ed90010449d28/dex_up.tsv\n"
     ]
    }
   ],
   "source": [
    "print(clustergrammer_link(np.log(df_up_sub), 'dex_up'))"
   ]
  },
  {
   "cell_type": "code",
   "execution_count": 101,
   "metadata": {},
   "outputs": [
    {
     "name": "stderr",
     "output_type": "stream",
     "text": [
      "100%|██████████| 172/172 [00:01<00:00, 108.85it/s]\n"
     ]
    }
   ],
   "source": [
    "dfs = []\n",
    "for signature in tqdm(os.listdir('data/dex_out')):\n",
    "    if '_down' in signature:\n",
    "        df = pd.read_csv(f\"data/dex_out/{signature}\", sep='\\t', index_col=0)\n",
    "        if df.empty:\n",
    "            continue\n",
    "        meta = pd.read_csv(f\"data/dexsigs/{signature.replace('_down.tsv', '.txt')}\", sep='\\t', index_col=0)\n",
    "        meta = meta[meta.index.str.startswith('!')].drop_duplicates()\n",
    "        if '!perturbation' in meta.index:\n",
    "            pert = meta.loc['!perturbation'].values[0]\n",
    "        else: pert = ''\n",
    "        if '!organism' in meta.index:\n",
    "            organism = meta.loc['!organism'].values[0]\n",
    "        else: organism = ''\n",
    "        if '!cell' in meta.index:\n",
    "            cell = meta.loc['!cell'].values[0]\n",
    "        else: cell = ''\n",
    "              \n",
    "        df.set_index('drug', inplace=True, drop=True)\n",
    "        term = f\"{cell}_{organism}_{pert}\"\n",
    "        df[term] = -np.log10(df['pvalue'])\n",
    "        df = df[term]\n",
    "        dfs.append(df)"
   ]
  },
  {
   "cell_type": "code",
   "execution_count": 104,
   "metadata": {},
   "outputs": [
    {
     "data": {
      "text/plain": [
       "(149, 83)"
      ]
     },
     "execution_count": 104,
     "metadata": {},
     "output_type": "execute_result"
    }
   ],
   "source": [
    "df_dn = pd.concat(dfs, axis=1)\n",
    "df_dn_sub = df_dn.dropna(thresh=len(df_dn.columns)*0.95)\n",
    "df_dn_sub.shape"
   ]
  },
  {
   "cell_type": "code",
   "execution_count": 122,
   "metadata": {},
   "outputs": [
    {
     "name": "stdout",
     "output_type": "stream",
     "text": [
      "Down Dex Signatures -- Dexamethasone -log10(p-value):  2.7715713432883198 +/- 3.7606015935501516 , betamethasone: 0.572629832651498 +/- 0.5506887995223533\n",
      "Up Dex Signatures -- Dexamethasone -log10(p-value):  10.409360513129398 +/- 10.661841389140571 , betamethasone: 0.8404351308214124 +/- 0.7136063329065105\n"
     ]
    }
   ],
   "source": [
    "print('Down Dex Signatures -- Dexamethasone -log10(p-value): ', df_dn.loc['dexamethasone'].mean(), '+/-', df_dn.loc['dexamethasone'].std(),', betamethasone:', df_dn.loc['betamethasone'].mean(), '+/-', df_dn.loc['betamethasone'].std())\n",
    "print('Up Dex Signatures -- Dexamethasone -log10(p-value): ',  df_up.loc['dexamethasone'].mean(), '+/-', df_up.loc['dexamethasone'].std(),', betamethasone:', df_up.loc['betamethasone'].mean(), '+/-', df_up.loc['betamethasone'].std())"
   ]
  },
  {
   "cell_type": "code",
   "execution_count": 106,
   "metadata": {},
   "outputs": [
    {
     "name": "stdout",
     "output_type": "stream",
     "text": [
      "http://maayanlab.cloud/clustergrammer/viz/6740a433357ed90010449d42/dex_dn.tsv\n"
     ]
    }
   ],
   "source": [
    "print(clustergrammer_link(np.log(df_dn_sub), 'dex_dn'))"
   ]
  },
  {
   "cell_type": "code",
   "execution_count": 116,
   "metadata": {},
   "outputs": [],
   "source": [
    "\n",
    "for d in df_dn_sub.index.values:\n",
    "    if 'dexamethasone' in d:\n",
    "        print(d)\n",
    "    elif 'betamethasone' in d:\n",
    "        print(d)"
   ]
  },
  {
   "cell_type": "code",
   "execution_count": null,
   "metadata": {},
   "outputs": [
    {
     "data": {
      "text/plain": [
       "'CD58\\n\\nSLC25A46\\n\\n\\nVDAC1\\nSPR\\n\\nKDM3A\\nPCCB\\nBAG3\\nRNH1\\nDNAJB2\\nFIS1\\nHACD3\\nSORBS3\\nTOR1A\\nTNIP1\\nOXA1L\\n\\nNPDC1\\nCRIP1\\nADH5\\nVPS28\\nCHAC1'"
      ]
     },
     "execution_count": 3,
     "metadata": {},
     "output_type": "execute_result"
    }
   ],
   "source": [
    "geneset = [\"AKT1\", \"CDK9\", \"STAT3\", \"STAT1\", \"AKT5\"]\n",
    "\n",
    "query = {\n",
    "    \"operationName\": \"EnrichmentQuery\",\n",
    "    \"variables\": {\n",
    "        \"filterTerm\": \" \",\n",
    "        \"offset\": 0,\n",
    "        \"first\": 12,\n",
    "        \"filterFda\": False,\n",
    "        \"sortBy\": \"pvalue\",\n",
    "        \"filterKo\": False,\n",
    "        \"genes\": geneset,\n",
    "    },\n",
    "    \"query\": \"\"\"query EnrichmentQuery(\n",
    "                    $genes: [String]!\n",
    "                    $filterTerm: String = \"\"\n",
    "                    $offset: Int = 0\n",
    "                    $first: Int = 10\n",
    "                    $filterFda: Boolean = false\n",
    "                    $sortBy: String = \"\"\n",
    "                    $filterKo: Boolean = false\n",
    "                    ) {\n",
    "                    currentBackground {\n",
    "                        enrich(\n",
    "                        genes: $genes\n",
    "                        filterTerm: $filterTerm\n",
    "                        offset: $offset\n",
    "                        first: $first\n",
    "                        filterFda: $filterFda\n",
    "                        sortby: $sortBy\n",
    "                        filterKo: $filterKo\n",
    "                        ) {\n",
    "                        nodes {\n",
    "                            geneSetHash\n",
    "                            pvalue\n",
    "                            adjPvalue\n",
    "                            oddsRatio\n",
    "                            nOverlap\n",
    "                            geneSets {\n",
    "                            nodes {\n",
    "                                id\n",
    "                                term\n",
    "                                description\n",
    "                                nGeneIds\n",
    "                                geneSetFdaCountsById {\n",
    "                                nodes {\n",
    "                                    approved\n",
    "                                    count\n",
    "                                    __typename\n",
    "                                }\n",
    "                                __typename\n",
    "                                }\n",
    "                                __typename\n",
    "                            }\n",
    "                            totalCount\n",
    "                            __typename\n",
    "                            }\n",
    "                            __typename\n",
    "                        }\n",
    "                        totalCount\n",
    "                        consensusCount\n",
    "                        consensus {\n",
    "                            drug\n",
    "                            oddsRatio\n",
    "                            pvalue\n",
    "                            adjPvalue\n",
    "                            approved\n",
    "                            countSignificant\n",
    "                            countInsignificant\n",
    "                            countUpSignificant\n",
    "                            pvalueUp\n",
    "                            adjPvalueUp\n",
    "                            oddsRatioUp\n",
    "                            pvalueDown\n",
    "                            adjPvalueDown\n",
    "                            oddsRatioDown\n",
    "                            __typename\n",
    "                        }\n",
    "                        __typename\n",
    "                        }\n",
    "                        __typename\n",
    "                    }\n",
    "                    }\n",
    "                    \"\"\",\n",
    "}\n",
    "\n"
   ]
  },
  {
   "cell_type": "code",
   "execution_count": 11,
   "metadata": {},
   "outputs": [],
   "source": [
    "import requests\n",
    "import json\n",
    "\n",
    "url = \"https://l2s2.maayanlab.cloud/graphql\"\n",
    "\n",
    "def enrich_l2s2(geneset: list):\n",
    "    query = {\n",
    "    \"operationName\": \"EnrichmentQuery\",\n",
    "    \"variables\": {\n",
    "        \"filterTerm\": \" \",\n",
    "        \"offset\": 0,\n",
    "        \"first\": 12,\n",
    "        \"filterFda\": False,\n",
    "        \"sortBy\": \"pvalue\",\n",
    "        \"filterKo\": False,\n",
    "        \"genes\": geneset,\n",
    "    },\n",
    "    \"query\": \"\"\"query EnrichmentQuery(\n",
    "                    $genes: [String]!\n",
    "                    $filterTerm: String = \"\"\n",
    "                    $offset: Int = 0\n",
    "                    $first: Int = 10\n",
    "                    $filterFda: Boolean = false\n",
    "                    $sortBy: String = \"\"\n",
    "                    $filterKo: Boolean = false\n",
    "                    ) {\n",
    "                    currentBackground {\n",
    "                        enrich(\n",
    "                        genes: $genes\n",
    "                        filterTerm: $filterTerm\n",
    "                        offset: $offset\n",
    "                        first: $first\n",
    "                        filterFda: $filterFda\n",
    "                        sortby: $sortBy\n",
    "                        filterKo: $filterKo\n",
    "                        ) {\n",
    "                        nodes {\n",
    "                            geneSetHash\n",
    "                            pvalue\n",
    "                            adjPvalue\n",
    "                            oddsRatio\n",
    "                            nOverlap\n",
    "                            geneSets {\n",
    "                            nodes {\n",
    "                                id\n",
    "                                term\n",
    "                                description\n",
    "                                nGeneIds\n",
    "                                geneSetFdaCountsById {\n",
    "                                nodes {\n",
    "                                    approved\n",
    "                                    count\n",
    "                                    __typename\n",
    "                                }\n",
    "                                __typename\n",
    "                                }\n",
    "                                __typename\n",
    "                            }\n",
    "                            totalCount\n",
    "                            __typename\n",
    "                            }\n",
    "                            __typename\n",
    "                        }\n",
    "                        totalCount\n",
    "                        consensusCount\n",
    "                        consensus {\n",
    "                            drug\n",
    "                            oddsRatio\n",
    "                            pvalue\n",
    "                            adjPvalue\n",
    "                            approved\n",
    "                            countSignificant\n",
    "                            countInsignificant\n",
    "                            countUpSignificant\n",
    "                            pvalueUp\n",
    "                            adjPvalueUp\n",
    "                            oddsRatioUp\n",
    "                            pvalueDown\n",
    "                            adjPvalueDown\n",
    "                            oddsRatioDown\n",
    "                            __typename\n",
    "                        }\n",
    "                        __typename\n",
    "                        }\n",
    "                        __typename\n",
    "                    }\n",
    "                    }\n",
    "                    \"\"\",\n",
    "    }\n",
    "\n",
    "    headers = {\n",
    "        \"Accept\": \"application/json\",\n",
    "        \"Content-Type\": \"application/json\"\n",
    "    }\n",
    "\n",
    "    response = requests.post(url, data=json.dumps(query), headers=headers)\n",
    "\n",
    "    if response.status_code == 200:\n",
    "        res = response.json()\n",
    "        return res\n"
   ]
  },
  {
   "cell_type": "code",
   "execution_count": 12,
   "metadata": {},
   "outputs": [
    {
     "name": "stdout",
     "output_type": "stream",
     "text": [
      "{'data': {'currentBackground': {'enrich': {'nodes': [{'geneSetHash': '8ebb41be-6155-5241-a067-c64ac8a7d3b1', 'pvalue': 1.0787151011460342e-10, 'adjPvalue': 0.00018098757477085243, 'oddsRatio': 45.336, 'nOverlap': 6, 'geneSets': {'nodes': [{'id': 'a1f21e72-9830-45fd-836a-18ba22492081', 'term': 'MOAR008_NCIH838_24H_M15_INCB-3284_1.11uM down', 'description': None, 'nGeneIds': 250, 'geneSetFdaCountsById': {'nodes': [{'approved': False, 'count': 142, '__typename': 'GeneSetFdaCount'}], '__typename': 'GeneSetFdaCountsConnection'}, '__typename': 'GeneSet'}], 'totalCount': 1, '__typename': 'GeneSetsConnection'}, '__typename': 'EnrichResult'}, {'geneSetHash': 'a6660c23-2375-5396-9cfa-2820c6eaf872', 'pvalue': 2.9446597158692734e-08, 'adjPvalue': 0.0054895229821149754, 'oddsRatio': 37.78, 'nOverlap': 5, 'geneSets': {'nodes': [{'id': 'a1e773c1-0f75-454a-8b82-53de52e248bd', 'term': 'REP.A011_HUVEC.A_24H_I24_isbufylline_0.04uM up', 'description': None, 'nGeneIds': 250, 'geneSetFdaCountsById': {'nodes': [{'approved': False, 'count': 334, '__typename': 'GeneSetFdaCount'}], '__typename': 'GeneSetFdaCountsConnection'}, '__typename': 'GeneSet'}], 'totalCount': 1, '__typename': 'GeneSetsConnection'}, '__typename': 'EnrichResult'}, {'geneSetHash': 'ef392589-1ecf-58c4-bf14-2201568dbf6e', 'pvalue': 2.9446597158692734e-08, 'adjPvalue': 0.0054895229821149754, 'oddsRatio': 37.78, 'nOverlap': 5, 'geneSets': {'nodes': [{'id': 'fddf781d-abe6-4a54-a4c8-5c6a5a62dfb7', 'term': 'AICHI002_SKMEL5_24H_I21_PRT-062607_0.66uM down', 'description': None, 'nGeneIds': 250, 'geneSetFdaCountsById': {'nodes': [{'approved': False, 'count': 330, '__typename': 'GeneSetFdaCount'}], '__typename': 'GeneSetFdaCountsConnection'}, '__typename': 'GeneSet'}], 'totalCount': 1, '__typename': 'GeneSetsConnection'}, '__typename': 'EnrichResult'}, {'geneSetHash': 'da184062-ece0-521c-87ca-7ffb1a0377ac', 'pvalue': 2.9446597158692734e-08, 'adjPvalue': 0.0054895229821149754, 'oddsRatio': 37.78, 'nOverlap': 5, 'geneSets': {'nodes': [{'id': '5b47cc26-a286-43fb-a855-0d4ee4ed20a8', 'term': 'DOS052_MCF7_24H_E21_BRD-K58493165_4uM up', 'description': None, 'nGeneIds': 250, 'geneSetFdaCountsById': {'nodes': [{'approved': False, 'count': 14, '__typename': 'GeneSetFdaCount'}], '__typename': 'GeneSetFdaCountsConnection'}, '__typename': 'GeneSet'}], 'totalCount': 1, '__typename': 'GeneSetsConnection'}, '__typename': 'EnrichResult'}, {'geneSetHash': 'fc59e008-2a3d-51e9-9bc3-993dc85aba0e', 'pvalue': 2.9446597158692734e-08, 'adjPvalue': 0.0054895229821149754, 'oddsRatio': 37.78, 'nOverlap': 5, 'geneSets': {'nodes': [{'id': '58e3913e-5b90-4bed-a694-d4cf825aa44e', 'term': 'CPD003_PC3_6H_H04_imidazolidinyl-urea_10uM down', 'description': None, 'nGeneIds': 250, 'geneSetFdaCountsById': {'nodes': [{'approved': False, 'count': 8, '__typename': 'GeneSetFdaCount'}], '__typename': 'GeneSetFdaCountsConnection'}, '__typename': 'GeneSet'}], 'totalCount': 1, '__typename': 'GeneSetsConnection'}, '__typename': 'EnrichResult'}, {'geneSetHash': '76c90100-607c-5d56-8284-8bb732910cbd', 'pvalue': 2.9446597158692734e-08, 'adjPvalue': 0.0054895229821149754, 'oddsRatio': 37.78, 'nOverlap': 5, 'geneSets': {'nodes': [{'id': 'ee2d20b2-d8b5-47b5-98de-1d8c101ec3b8', 'term': 'XPR022_ES2.311_96H_B14_RFXAP down', 'description': None, 'nGeneIds': 250, 'geneSetFdaCountsById': {'nodes': [{'approved': False, 'count': 40, '__typename': 'GeneSetFdaCount'}], '__typename': 'GeneSetFdaCountsConnection'}, '__typename': 'GeneSet'}], 'totalCount': 1, '__typename': 'GeneSetsConnection'}, '__typename': 'EnrichResult'}, {'geneSetHash': '8d60ac1d-66d4-5595-92cd-a27b211653f8', 'pvalue': 2.9446597158692734e-08, 'adjPvalue': 0.0054895229821149754, 'oddsRatio': 37.78, 'nOverlap': 5, 'geneSets': {'nodes': [{'id': '21f66a9f-a16a-4726-8b4d-b45ab641ecb7', 'term': 'MOAR009_SH4_24H_N07_alclofenac_10uM down', 'description': None, 'nGeneIds': 250, 'geneSetFdaCountsById': {'nodes': [{'approved': False, 'count': 144, '__typename': 'GeneSetFdaCount'}], '__typename': 'GeneSetFdaCountsConnection'}, '__typename': 'GeneSet'}], 'totalCount': 1, '__typename': 'GeneSetsConnection'}, '__typename': 'EnrichResult'}, {'geneSetHash': '6350380f-4b78-5b87-8917-f6c514973c2d', 'pvalue': 2.9446597158692734e-08, 'adjPvalue': 0.0054895229821149754, 'oddsRatio': 37.78, 'nOverlap': 5, 'geneSets': {'nodes': [{'id': '88d848ce-ae36-4722-aa82-8a14de71b2cb', 'term': 'CPC004_A375_6H_E18_BRD-A36066264_10uM up', 'description': None, 'nGeneIds': 250, 'geneSetFdaCountsById': {'nodes': [{'approved': False, 'count': 48, '__typename': 'GeneSetFdaCount'}], '__typename': 'GeneSetFdaCountsConnection'}, '__typename': 'GeneSet'}], 'totalCount': 1, '__typename': 'GeneSetsConnection'}, '__typename': 'EnrichResult'}, {'geneSetHash': '031b69b9-e0ca-55fc-b67f-686245b024d4', 'pvalue': 2.9446597158692734e-08, 'adjPvalue': 0.0054895229821149754, 'oddsRatio': 37.78, 'nOverlap': 5, 'geneSets': {'nodes': [{'id': 'df6a2e3e-b264-4af1-b5b9-971b157b116a', 'term': 'REP.B019_MCF7_24H_C07_ursodeoxycholyltaurine_2.22uM down', 'description': None, 'nGeneIds': 250, 'geneSetFdaCountsById': {'nodes': [{'approved': True, 'count': 310, '__typename': 'GeneSetFdaCount'}], '__typename': 'GeneSetFdaCountsConnection'}, '__typename': 'GeneSet'}], 'totalCount': 1, '__typename': 'GeneSetsConnection'}, '__typename': 'EnrichResult'}, {'geneSetHash': '38a3d67b-c0ed-57fe-819d-03a1101593e1', 'pvalue': 3.33923178877546e-06, 'adjPvalue': 0.043430902866899136, 'oddsRatio': 30.224, 'nOverlap': 4, 'geneSets': {'nodes': [{'id': 'e38b155e-af84-401d-b7c1-8a2c5b998b1e', 'term': 'ASG003_XC.P933_24H_D13_tandutinib_10uM up', 'description': None, 'nGeneIds': 250, 'geneSetFdaCountsById': {'nodes': [{'approved': False, 'count': 1006, '__typename': 'GeneSetFdaCount'}], '__typename': 'GeneSetFdaCountsConnection'}, '__typename': 'GeneSet'}], 'totalCount': 1, '__typename': 'GeneSetsConnection'}, '__typename': 'EnrichResult'}, {'geneSetHash': '165aff04-30b6-5614-b310-626ae8506ad6', 'pvalue': 3.33923178877546e-06, 'adjPvalue': 0.043430902866899136, 'oddsRatio': 30.224, 'nOverlap': 4, 'geneSets': {'nodes': [{'id': '038af19b-6d8e-4b27-b2dd-abfe51375235', 'term': 'DOS051_MCF7_24H_P05_BRD-K66480544_4uM up', 'description': None, 'nGeneIds': 250, 'geneSetFdaCountsById': {'nodes': [{'approved': False, 'count': 14, '__typename': 'GeneSetFdaCount'}], '__typename': 'GeneSetFdaCountsConnection'}, '__typename': 'GeneSet'}], 'totalCount': 1, '__typename': 'GeneSetsConnection'}, '__typename': 'EnrichResult'}, {'geneSetHash': 'e808feab-861e-5a65-9ee9-fe032960e45e', 'pvalue': 3.33923178877546e-06, 'adjPvalue': 0.043430902866899136, 'oddsRatio': 30.224, 'nOverlap': 4, 'geneSets': {'nodes': [{'id': '78c5c19d-c6c3-4ebe-9771-128321d879db', 'term': 'XPR031_AGS.311_96H_N03_MAPK8 down', 'description': None, 'nGeneIds': 250, 'geneSetFdaCountsById': {'nodes': [{'approved': False, 'count': 36, '__typename': 'GeneSetFdaCount'}], '__typename': 'GeneSetFdaCountsConnection'}, '__typename': 'GeneSet'}], 'totalCount': 1, '__typename': 'GeneSetsConnection'}, '__typename': 'EnrichResult'}], 'totalCount': 129, 'consensusCount': 0, 'consensus': [], '__typename': 'PaginatedEnrichResult'}, '__typename': 'Background'}}}\n"
     ]
    }
   ],
   "source": [
    "print(enrich_l2s2(geneset))"
   ]
  },
  {
   "cell_type": "code",
   "execution_count": null,
   "metadata": {},
   "outputs": [],
   "source": []
  }
 ],
 "metadata": {
  "kernelspec": {
   "display_name": "venv",
   "language": "python",
   "name": "python3"
  },
  "language_info": {
   "codemirror_mode": {
    "name": "ipython",
    "version": 3
   },
   "file_extension": ".py",
   "mimetype": "text/x-python",
   "name": "python",
   "nbconvert_exporter": "python",
   "pygments_lexer": "ipython3",
   "version": "3.11.9"
  }
 },
 "nbformat": 4,
 "nbformat_minor": 2
}
